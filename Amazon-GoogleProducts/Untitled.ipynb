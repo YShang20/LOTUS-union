{
 "cells": [
  {
   "cell_type": "code",
   "execution_count": 68,
   "id": "96a493c8",
   "metadata": {},
   "outputs": [],
   "source": [
    "import pandas as pd\n",
    "import numpy as np\n"
   ]
  },
  {
   "cell_type": "code",
   "execution_count": 93,
   "id": "68c3c4bf",
   "metadata": {},
   "outputs": [
    {
     "data": {
      "text/plain": [
       "3226"
      ]
     },
     "execution_count": 93,
     "metadata": {},
     "output_type": "execute_result"
    }
   ],
   "source": [
    "amazon_df = pd.read_csv('Amazon.csv', encoding='ISO-8859-1',quotechar='\"', escapechar='\\\\')\n",
    "google_df = pd.read_csv('GoogleProducts.csv', encoding='ISO-8859-1',quotechar='\"', escapechar='\\\\')\n",
    "match_df = pd.read_csv('Amzon_GoogleProducts_perfectMapping.csv', encoding='ISO-8859-1',quotechar='\"', escapechar='\\\\')\n",
    "len(google_df['id'].unique())\n"
   ]
  },
  {
   "cell_type": "code",
   "execution_count": 94,
   "id": "feb1f739",
   "metadata": {},
   "outputs": [
    {
     "data": {
      "text/html": [
       "<div>\n",
       "<style scoped>\n",
       "    .dataframe tbody tr th:only-of-type {\n",
       "        vertical-align: middle;\n",
       "    }\n",
       "\n",
       "    .dataframe tbody tr th {\n",
       "        vertical-align: top;\n",
       "    }\n",
       "\n",
       "    .dataframe thead th {\n",
       "        text-align: right;\n",
       "    }\n",
       "</style>\n",
       "<table border=\"1\" class=\"dataframe\">\n",
       "  <thead>\n",
       "    <tr style=\"text-align: right;\">\n",
       "      <th></th>\n",
       "      <th>id</th>\n",
       "      <th>title</th>\n",
       "      <th>description</th>\n",
       "      <th>manufacturer</th>\n",
       "      <th>price</th>\n",
       "      <th>source</th>\n",
       "      <th>unified_id</th>\n",
       "    </tr>\n",
       "  </thead>\n",
       "  <tbody>\n",
       "    <tr>\n",
       "      <th>0</th>\n",
       "      <td>1931102953</td>\n",
       "      <td>instant immersion american sign language win/mac</td>\n",
       "      <td>instant immersion asl teaches beginners americ...</td>\n",
       "      <td>topics entertainment</td>\n",
       "      <td>9.99</td>\n",
       "      <td>amazon</td>\n",
       "      <td>1931102953</td>\n",
       "    </tr>\n",
       "    <tr>\n",
       "      <th>1</th>\n",
       "      <td>b00001qgvr</td>\n",
       "      <td>art explosion 600 000 images</td>\n",
       "      <td>art explosion 600 000 is an enormous collectio...</td>\n",
       "      <td>nova development</td>\n",
       "      <td>79.99</td>\n",
       "      <td>amazon</td>\n",
       "      <td>b00001qgvr</td>\n",
       "    </tr>\n",
       "    <tr>\n",
       "      <th>2</th>\n",
       "      <td>b00001xdw7</td>\n",
       "      <td>jumpstart kindergarten</td>\n",
       "      <td>jumpstart kindergarten is designed to stimulat...</td>\n",
       "      <td>knowledge adventure</td>\n",
       "      <td>19.99</td>\n",
       "      <td>amazon</td>\n",
       "      <td>b00001xdw7</td>\n",
       "    </tr>\n",
       "    <tr>\n",
       "      <th>3</th>\n",
       "      <td>b00002cf7w</td>\n",
       "      <td>south park chef's luv shack</td>\n",
       "      <td>chef takes on the role of game show host in a ...</td>\n",
       "      <td>acclaim</td>\n",
       "      <td>39.95</td>\n",
       "      <td>amazon</td>\n",
       "      <td>b00002cf7w</td>\n",
       "    </tr>\n",
       "    <tr>\n",
       "      <th>4</th>\n",
       "      <td>b00002jvfk</td>\n",
       "      <td>microsoft entertainment pack ce</td>\n",
       "      <td>- marketing information: the microsoft enterta...</td>\n",
       "      <td>microsoft</td>\n",
       "      <td>49.5</td>\n",
       "      <td>amazon</td>\n",
       "      <td>b00002jvfk</td>\n",
       "    </tr>\n",
       "  </tbody>\n",
       "</table>\n",
       "</div>"
      ],
      "text/plain": [
       "           id                                             title  \\\n",
       "0  1931102953  instant immersion american sign language win/mac   \n",
       "1  b00001qgvr                      art explosion 600 000 images   \n",
       "2  b00001xdw7                            jumpstart kindergarten   \n",
       "3  b00002cf7w                       south park chef's luv shack   \n",
       "4  b00002jvfk                   microsoft entertainment pack ce   \n",
       "\n",
       "                                         description          manufacturer  \\\n",
       "0  instant immersion asl teaches beginners americ...  topics entertainment   \n",
       "1  art explosion 600 000 is an enormous collectio...      nova development   \n",
       "2  jumpstart kindergarten is designed to stimulat...   knowledge adventure   \n",
       "3  chef takes on the role of game show host in a ...               acclaim   \n",
       "4  - marketing information: the microsoft enterta...             microsoft   \n",
       "\n",
       "   price  source  unified_id  \n",
       "0   9.99  amazon  1931102953  \n",
       "1  79.99  amazon  b00001qgvr  \n",
       "2  19.99  amazon  b00001xdw7  \n",
       "3  39.95  amazon  b00002cf7w  \n",
       "4   49.5  amazon  b00002jvfk  "
      ]
     },
     "execution_count": 94,
     "metadata": {},
     "output_type": "execute_result"
    }
   ],
   "source": [
    "# Rename 'name' column in Google data to 'title' before merging\n",
    "google_df_renamed = google_df.rename(columns={'name': 'title'})\n",
    "\n",
    "# Rebuild merged table\n",
    "google_df_renamed['source'] = 'google'\n",
    "amazon_df['source'] = 'amazon'\n",
    "\n",
    "# Reapply unified_id mapping to ensure it's consistent\n",
    "google_df_renamed['unified_id'] = google_df_renamed['id'].map(id_to_rep).fillna(google_df_renamed['id'])\n",
    "amazon_df['unified_id'] = amazon_df['id'].map(id_to_rep).fillna(amazon_df['id'])\n",
    "\n",
    "# Merge with renamed columns\n",
    "combined_df = pd.concat([amazon_df, google_df_renamed], ignore_index=True)\n",
    "\n",
    "# Deduplicate with preference for Amazon if available\n",
    "def select_representative(group):\n",
    "    amazon_rows = group[group['source'] == 'amazon']\n",
    "    if not amazon_rows.empty:\n",
    "        return amazon_rows.iloc[0]\n",
    "    else:\n",
    "        return group.iloc[0]\n",
    "\n",
    "deduplicated_df = combined_df.groupby('unified_id', as_index=False).apply(select_representative).reset_index(drop=True)\n",
    "\n",
    "deduplicated_df.head()\n"
   ]
  },
  {
   "cell_type": "code",
   "execution_count": 95,
   "id": "a21133e4",
   "metadata": {},
   "outputs": [],
   "source": [
    "deduplicated_df.to_csv(\"/Users/yolandazhou/Documents/untitled_folder/CSE_584/lotus/processed_result_3290.csv\")"
   ]
  },
  {
   "cell_type": "code",
   "execution_count": 70,
   "id": "92df47ea",
   "metadata": {},
   "outputs": [
    {
     "data": {
      "text/plain": [
       "1363"
      ]
     },
     "execution_count": 70,
     "metadata": {},
     "output_type": "execute_result"
    }
   ],
   "source": [
    "len(amazon_df)"
   ]
  },
  {
   "cell_type": "code",
   "execution_count": 80,
   "id": "e6f41009",
   "metadata": {},
   "outputs": [
    {
     "ename": "KeyError",
     "evalue": "'idGoogleBase'",
     "output_type": "error",
     "traceback": [
      "\u001b[0;31m---------------------------------------------------------------------------\u001b[0m",
      "\u001b[0;31mKeyError\u001b[0m                                  Traceback (most recent call last)",
      "File \u001b[0;32m/opt/anaconda3/lib/python3.11/site-packages/pandas/core/indexes/base.py:3791\u001b[0m, in \u001b[0;36mIndex.get_loc\u001b[0;34m(self, key)\u001b[0m\n\u001b[1;32m   3790\u001b[0m \u001b[38;5;28;01mtry\u001b[39;00m:\n\u001b[0;32m-> 3791\u001b[0m     \u001b[38;5;28;01mreturn\u001b[39;00m \u001b[38;5;28mself\u001b[39m\u001b[38;5;241m.\u001b[39m_engine\u001b[38;5;241m.\u001b[39mget_loc(casted_key)\n\u001b[1;32m   3792\u001b[0m \u001b[38;5;28;01mexcept\u001b[39;00m \u001b[38;5;167;01mKeyError\u001b[39;00m \u001b[38;5;28;01mas\u001b[39;00m err:\n",
      "File \u001b[0;32mindex.pyx:152\u001b[0m, in \u001b[0;36mpandas._libs.index.IndexEngine.get_loc\u001b[0;34m()\u001b[0m\n",
      "File \u001b[0;32mindex.pyx:181\u001b[0m, in \u001b[0;36mpandas._libs.index.IndexEngine.get_loc\u001b[0;34m()\u001b[0m\n",
      "File \u001b[0;32mpandas/_libs/hashtable_class_helper.pxi:7080\u001b[0m, in \u001b[0;36mpandas._libs.hashtable.PyObjectHashTable.get_item\u001b[0;34m()\u001b[0m\n",
      "File \u001b[0;32mpandas/_libs/hashtable_class_helper.pxi:7088\u001b[0m, in \u001b[0;36mpandas._libs.hashtable.PyObjectHashTable.get_item\u001b[0;34m()\u001b[0m\n",
      "\u001b[0;31mKeyError\u001b[0m: 'idGoogleBase'",
      "\nThe above exception was the direct cause of the following exception:\n",
      "\u001b[0;31mKeyError\u001b[0m                                  Traceback (most recent call last)",
      "Cell \u001b[0;32mIn[80], line 2\u001b[0m\n\u001b[1;32m      1\u001b[0m \u001b[38;5;28mlen\u001b[39m(google_df)\n\u001b[0;32m----> 2\u001b[0m \u001b[38;5;28mlen\u001b[39m(google_df[\u001b[38;5;124m'\u001b[39m\u001b[38;5;124midGoogleBase\u001b[39m\u001b[38;5;124m'\u001b[39m]\u001b[38;5;241m.\u001b[39munique())\n",
      "File \u001b[0;32m/opt/anaconda3/lib/python3.11/site-packages/pandas/core/frame.py:3893\u001b[0m, in \u001b[0;36mDataFrame.__getitem__\u001b[0;34m(self, key)\u001b[0m\n\u001b[1;32m   3891\u001b[0m \u001b[38;5;28;01mif\u001b[39;00m \u001b[38;5;28mself\u001b[39m\u001b[38;5;241m.\u001b[39mcolumns\u001b[38;5;241m.\u001b[39mnlevels \u001b[38;5;241m>\u001b[39m \u001b[38;5;241m1\u001b[39m:\n\u001b[1;32m   3892\u001b[0m     \u001b[38;5;28;01mreturn\u001b[39;00m \u001b[38;5;28mself\u001b[39m\u001b[38;5;241m.\u001b[39m_getitem_multilevel(key)\n\u001b[0;32m-> 3893\u001b[0m indexer \u001b[38;5;241m=\u001b[39m \u001b[38;5;28mself\u001b[39m\u001b[38;5;241m.\u001b[39mcolumns\u001b[38;5;241m.\u001b[39mget_loc(key)\n\u001b[1;32m   3894\u001b[0m \u001b[38;5;28;01mif\u001b[39;00m is_integer(indexer):\n\u001b[1;32m   3895\u001b[0m     indexer \u001b[38;5;241m=\u001b[39m [indexer]\n",
      "File \u001b[0;32m/opt/anaconda3/lib/python3.11/site-packages/pandas/core/indexes/base.py:3798\u001b[0m, in \u001b[0;36mIndex.get_loc\u001b[0;34m(self, key)\u001b[0m\n\u001b[1;32m   3793\u001b[0m     \u001b[38;5;28;01mif\u001b[39;00m \u001b[38;5;28misinstance\u001b[39m(casted_key, \u001b[38;5;28mslice\u001b[39m) \u001b[38;5;129;01mor\u001b[39;00m (\n\u001b[1;32m   3794\u001b[0m         \u001b[38;5;28misinstance\u001b[39m(casted_key, abc\u001b[38;5;241m.\u001b[39mIterable)\n\u001b[1;32m   3795\u001b[0m         \u001b[38;5;129;01mand\u001b[39;00m \u001b[38;5;28many\u001b[39m(\u001b[38;5;28misinstance\u001b[39m(x, \u001b[38;5;28mslice\u001b[39m) \u001b[38;5;28;01mfor\u001b[39;00m x \u001b[38;5;129;01min\u001b[39;00m casted_key)\n\u001b[1;32m   3796\u001b[0m     ):\n\u001b[1;32m   3797\u001b[0m         \u001b[38;5;28;01mraise\u001b[39;00m InvalidIndexError(key)\n\u001b[0;32m-> 3798\u001b[0m     \u001b[38;5;28;01mraise\u001b[39;00m \u001b[38;5;167;01mKeyError\u001b[39;00m(key) \u001b[38;5;28;01mfrom\u001b[39;00m \u001b[38;5;21;01merr\u001b[39;00m\n\u001b[1;32m   3799\u001b[0m \u001b[38;5;28;01mexcept\u001b[39;00m \u001b[38;5;167;01mTypeError\u001b[39;00m:\n\u001b[1;32m   3800\u001b[0m     \u001b[38;5;66;03m# If we have a listlike key, _check_indexing_error will raise\u001b[39;00m\n\u001b[1;32m   3801\u001b[0m     \u001b[38;5;66;03m#  InvalidIndexError. Otherwise we fall through and re-raise\u001b[39;00m\n\u001b[1;32m   3802\u001b[0m     \u001b[38;5;66;03m#  the TypeError.\u001b[39;00m\n\u001b[1;32m   3803\u001b[0m     \u001b[38;5;28mself\u001b[39m\u001b[38;5;241m.\u001b[39m_check_indexing_error(key)\n",
      "\u001b[0;31mKeyError\u001b[0m: 'idGoogleBase'"
     ]
    }
   ],
   "source": [
    "len(google_df)\n"
   ]
  },
  {
   "cell_type": "code",
   "execution_count": 72,
   "id": "da906b14",
   "metadata": {},
   "outputs": [
    {
     "data": {
      "text/plain": [
       "1300"
      ]
     },
     "execution_count": 72,
     "metadata": {},
     "output_type": "execute_result"
    }
   ],
   "source": [
    "len(match_df)"
   ]
  },
  {
   "cell_type": "code",
   "execution_count": 73,
   "id": "74bfd8a0",
   "metadata": {},
   "outputs": [
    {
     "data": {
      "text/plain": [
       "1113"
      ]
     },
     "execution_count": 73,
     "metadata": {},
     "output_type": "execute_result"
    }
   ],
   "source": [
    "len(match_df['idAmazon'].unique())"
   ]
  },
  {
   "cell_type": "code",
   "execution_count": 74,
   "id": "2915653b",
   "metadata": {},
   "outputs": [
    {
     "data": {
      "text/plain": [
       "Index(['id', 'name', 'description', 'manufacturer', 'price'], dtype='object')"
      ]
     },
     "execution_count": 74,
     "metadata": {},
     "output_type": "execute_result"
    }
   ],
   "source": [
    "google_df.columns"
   ]
  },
  {
   "cell_type": "code",
   "execution_count": 75,
   "id": "86462d50",
   "metadata": {},
   "outputs": [
    {
     "data": {
      "text/plain": [
       "Index(['id', 'title', 'description', 'manufacturer', 'price'], dtype='object')"
      ]
     },
     "execution_count": 75,
     "metadata": {},
     "output_type": "execute_result"
    }
   ],
   "source": [
    "amazon_df.columns"
   ]
  },
  {
   "cell_type": "markdown",
   "id": "f2b093a3",
   "metadata": {},
   "source": [
    "# Filter Amazon dataset to include only rows in matching CSV\n",
    "amazon_df = amazon_df[amazon_df['id'].isin(match_df['idAmazon'].unique())]\n",
    "amazon_df.to_csv(\"/Users/yolandazhou/Documents/untitled_folder/CSE_584/lotus/amazon_df.csv\")\n",
    "\n",
    "# Filter Google dataset to include only rows in matching CSV\n",
    "google_df = google_df[google_df['id'].isin(match_df['idGoogleBase'].unique())]\n",
    "google_df.to_csv(\"/Users/yolandazhou/Documents/untitled_folder/CSE_584/lotus/google_df.csv\")\n"
   ]
  },
  {
   "cell_type": "code",
   "execution_count": 77,
   "id": "e5f5910f",
   "metadata": {},
   "outputs": [
    {
     "data": {
      "text/plain": [
       "1291"
      ]
     },
     "execution_count": 77,
     "metadata": {},
     "output_type": "execute_result"
    }
   ],
   "source": [
    "len(amazon_df)\n",
    "len(google_df)"
   ]
  },
  {
   "cell_type": "code",
   "execution_count": 78,
   "id": "808d2d42",
   "metadata": {
    "scrolled": true
   },
   "outputs": [
    {
     "data": {
      "text/html": [
       "<div>\n",
       "<style scoped>\n",
       "    .dataframe tbody tr th:only-of-type {\n",
       "        vertical-align: middle;\n",
       "    }\n",
       "\n",
       "    .dataframe tbody tr th {\n",
       "        vertical-align: top;\n",
       "    }\n",
       "\n",
       "    .dataframe thead th {\n",
       "        text-align: right;\n",
       "    }\n",
       "</style>\n",
       "<table border=\"1\" class=\"dataframe\">\n",
       "  <thead>\n",
       "    <tr style=\"text-align: right;\">\n",
       "      <th></th>\n",
       "      <th>id</th>\n",
       "      <th>title</th>\n",
       "      <th>description_amazon</th>\n",
       "      <th>manufacturer_amazon</th>\n",
       "      <th>price_amazon</th>\n",
       "      <th>name</th>\n",
       "      <th>description_google</th>\n",
       "      <th>manufacturer_google</th>\n",
       "      <th>price_google</th>\n",
       "    </tr>\n",
       "  </thead>\n",
       "  <tbody>\n",
       "    <tr>\n",
       "      <th>0</th>\n",
       "      <td>b000jz4hqo</td>\n",
       "      <td>clickart 950 000 - premier image pack (dvd-rom)</td>\n",
       "      <td>NaN</td>\n",
       "      <td>broderbund</td>\n",
       "      <td>0.00</td>\n",
       "      <td>clickart 950000 - premier image pack (dvd-rom)</td>\n",
       "      <td>massive collection of images &amp; fonts for all y...</td>\n",
       "      <td>NaN</td>\n",
       "      <td>48.95</td>\n",
       "    </tr>\n",
       "    <tr>\n",
       "      <th>1</th>\n",
       "      <td>b00004tkvy</td>\n",
       "      <td>noah's ark activity center (jewel case ages 3-8)</td>\n",
       "      <td>NaN</td>\n",
       "      <td>victory multimedia</td>\n",
       "      <td>0.00</td>\n",
       "      <td>the beginners bible: noah's ark activity cente...</td>\n",
       "      <td>NaN</td>\n",
       "      <td>NaN</td>\n",
       "      <td>9.95</td>\n",
       "    </tr>\n",
       "    <tr>\n",
       "      <th>2</th>\n",
       "      <td>b000g80lqo</td>\n",
       "      <td>peachtree by sage premium accounting for nonpr...</td>\n",
       "      <td>peachtree premium accounting for nonprofits 20...</td>\n",
       "      <td>sage software</td>\n",
       "      <td>599.99</td>\n",
       "      <td>sage (ptree) - vernfp2007rt - premium accounti...</td>\n",
       "      <td>if you're like most nonprofit organizations yo...</td>\n",
       "      <td>NaN</td>\n",
       "      <td>590.35</td>\n",
       "    </tr>\n",
       "    <tr>\n",
       "      <th>3</th>\n",
       "      <td>b0006se5bq</td>\n",
       "      <td>singing coach unlimited</td>\n",
       "      <td>singing coach unlimited - electronic learning ...</td>\n",
       "      <td>carry-a-tune technologies</td>\n",
       "      <td>99.99</td>\n",
       "      <td>singing coach unlimited - electronic learning ...</td>\n",
       "      <td>learn to sing with the help of a patented real...</td>\n",
       "      <td>NaN</td>\n",
       "      <td>82.5</td>\n",
       "    </tr>\n",
       "    <tr>\n",
       "      <th>4</th>\n",
       "      <td>b00021xhzw</td>\n",
       "      <td>adobe after effects professional 6.5 upgrade f...</td>\n",
       "      <td>upgrade only; installation of after effects st...</td>\n",
       "      <td>adobe</td>\n",
       "      <td>499.99</td>\n",
       "      <td>adobe software 22070152 after effects 6.5 pbupgrd</td>\n",
       "      <td>adobe after effects pb 6.5 win upgrade.standar...</td>\n",
       "      <td>NaN</td>\n",
       "      <td>507</td>\n",
       "    </tr>\n",
       "    <tr>\n",
       "      <th>...</th>\n",
       "      <td>...</td>\n",
       "      <td>...</td>\n",
       "      <td>...</td>\n",
       "      <td>...</td>\n",
       "      <td>...</td>\n",
       "      <td>...</td>\n",
       "      <td>...</td>\n",
       "      <td>...</td>\n",
       "      <td>...</td>\n",
       "    </tr>\n",
       "    <tr>\n",
       "      <th>1295</th>\n",
       "      <td>b00005bigp</td>\n",
       "      <td>shapes</td>\n",
       "      <td>NaN</td>\n",
       "      <td>school zone</td>\n",
       "      <td>9.99</td>\n",
       "      <td>school zone interactive shapes on track software</td>\n",
       "      <td>shapes challenges children to identify and cre...</td>\n",
       "      <td>NaN</td>\n",
       "      <td>9.45</td>\n",
       "    </tr>\n",
       "    <tr>\n",
       "      <th>1296</th>\n",
       "      <td>b000h1df7w</td>\n",
       "      <td>dragon naturally speaking standard v9</td>\n",
       "      <td>dragon naturallyspeaking 9 (standard edition) ...</td>\n",
       "      <td>nuance communications inc.</td>\n",
       "      <td>99.99</td>\n",
       "      <td>nuance communications inc. dragon ns standard v9</td>\n",
       "      <td>dragon naturallyspeaking 9 allows people to pe...</td>\n",
       "      <td>NaN</td>\n",
       "      <td>92.51</td>\n",
       "    </tr>\n",
       "    <tr>\n",
       "      <th>1297</th>\n",
       "      <td>b000p9cr66</td>\n",
       "      <td>mediarecover</td>\n",
       "      <td>mediarecover gives you the ability to recover ...</td>\n",
       "      <td>aladdin systems</td>\n",
       "      <td>29.99</td>\n",
       "      <td>allume systems inc mediarecover</td>\n",
       "      <td>mediarecover retrieves your lost photos audio ...</td>\n",
       "      <td>NaN</td>\n",
       "      <td>26.14</td>\n",
       "    </tr>\n",
       "    <tr>\n",
       "      <th>1298</th>\n",
       "      <td>b000p9cr66</td>\n",
       "      <td>mediarecover</td>\n",
       "      <td>mediarecover gives you the ability to recover ...</td>\n",
       "      <td>aladdin systems</td>\n",
       "      <td>29.99</td>\n",
       "      <td>allume mediarecover</td>\n",
       "      <td>system requirements microsoft windows xp/vista...</td>\n",
       "      <td>NaN</td>\n",
       "      <td>32.99</td>\n",
       "    </tr>\n",
       "    <tr>\n",
       "      <th>1299</th>\n",
       "      <td>b000j588g4</td>\n",
       "      <td>photo explosion 3.0</td>\n",
       "      <td>photo explosion 3.0</td>\n",
       "      <td>nova development</td>\n",
       "      <td>29.99</td>\n",
       "      <td>nova development corp photo explosion 3.0</td>\n",
       "      <td>turn ordinary photographs into memories you?re...</td>\n",
       "      <td>NaN</td>\n",
       "      <td>28.3</td>\n",
       "    </tr>\n",
       "  </tbody>\n",
       "</table>\n",
       "<p>1300 rows × 9 columns</p>\n",
       "</div>"
      ],
      "text/plain": [
       "              id                                              title  \\\n",
       "0     b000jz4hqo    clickart 950 000 - premier image pack (dvd-rom)   \n",
       "1     b00004tkvy   noah's ark activity center (jewel case ages 3-8)   \n",
       "2     b000g80lqo  peachtree by sage premium accounting for nonpr...   \n",
       "3     b0006se5bq                            singing coach unlimited   \n",
       "4     b00021xhzw  adobe after effects professional 6.5 upgrade f...   \n",
       "...          ...                                                ...   \n",
       "1295  b00005bigp                                             shapes   \n",
       "1296  b000h1df7w              dragon naturally speaking standard v9   \n",
       "1297  b000p9cr66                                       mediarecover   \n",
       "1298  b000p9cr66                                       mediarecover   \n",
       "1299  b000j588g4                                photo explosion 3.0   \n",
       "\n",
       "                                     description_amazon  \\\n",
       "0                                                   NaN   \n",
       "1                                                   NaN   \n",
       "2     peachtree premium accounting for nonprofits 20...   \n",
       "3     singing coach unlimited - electronic learning ...   \n",
       "4     upgrade only; installation of after effects st...   \n",
       "...                                                 ...   \n",
       "1295                                                NaN   \n",
       "1296  dragon naturallyspeaking 9 (standard edition) ...   \n",
       "1297  mediarecover gives you the ability to recover ...   \n",
       "1298  mediarecover gives you the ability to recover ...   \n",
       "1299                                photo explosion 3.0   \n",
       "\n",
       "             manufacturer_amazon  price_amazon  \\\n",
       "0                     broderbund          0.00   \n",
       "1             victory multimedia          0.00   \n",
       "2                  sage software        599.99   \n",
       "3      carry-a-tune technologies         99.99   \n",
       "4                          adobe        499.99   \n",
       "...                          ...           ...   \n",
       "1295                 school zone          9.99   \n",
       "1296  nuance communications inc.         99.99   \n",
       "1297             aladdin systems         29.99   \n",
       "1298             aladdin systems         29.99   \n",
       "1299            nova development         29.99   \n",
       "\n",
       "                                                   name  \\\n",
       "0        clickart 950000 - premier image pack (dvd-rom)   \n",
       "1     the beginners bible: noah's ark activity cente...   \n",
       "2     sage (ptree) - vernfp2007rt - premium accounti...   \n",
       "3     singing coach unlimited - electronic learning ...   \n",
       "4     adobe software 22070152 after effects 6.5 pbupgrd   \n",
       "...                                                 ...   \n",
       "1295   school zone interactive shapes on track software   \n",
       "1296   nuance communications inc. dragon ns standard v9   \n",
       "1297                    allume systems inc mediarecover   \n",
       "1298                                allume mediarecover   \n",
       "1299          nova development corp photo explosion 3.0   \n",
       "\n",
       "                                     description_google manufacturer_google  \\\n",
       "0     massive collection of images & fonts for all y...                 NaN   \n",
       "1                                                   NaN                 NaN   \n",
       "2     if you're like most nonprofit organizations yo...                 NaN   \n",
       "3     learn to sing with the help of a patented real...                 NaN   \n",
       "4     adobe after effects pb 6.5 win upgrade.standar...                 NaN   \n",
       "...                                                 ...                 ...   \n",
       "1295  shapes challenges children to identify and cre...                 NaN   \n",
       "1296  dragon naturallyspeaking 9 allows people to pe...                 NaN   \n",
       "1297  mediarecover retrieves your lost photos audio ...                 NaN   \n",
       "1298  system requirements microsoft windows xp/vista...                 NaN   \n",
       "1299  turn ordinary photographs into memories you?re...                 NaN   \n",
       "\n",
       "     price_google  \n",
       "0           48.95  \n",
       "1            9.95  \n",
       "2          590.35  \n",
       "3            82.5  \n",
       "4             507  \n",
       "...           ...  \n",
       "1295         9.45  \n",
       "1296        92.51  \n",
       "1297        26.14  \n",
       "1298        32.99  \n",
       "1299         28.3  \n",
       "\n",
       "[1300 rows x 9 columns]"
      ]
     },
     "execution_count": 78,
     "metadata": {},
     "output_type": "execute_result"
    }
   ],
   "source": [
    "import networkx as nx\n",
    "\n",
    "# Suppose we have a mapping df_map with columns [idAmazon, idGoogleBase]\n",
    "\n",
    "# 1) Build a bipartite graph\n",
    "B = nx.Graph()\n",
    "amazon_nodes = match_df[\"idAmazon\"].unique()\n",
    "google_nodes = match_df[\"idGoogleBase\"].unique()\n",
    "\n",
    "B.add_nodes_from(amazon_nodes, bipartite=0)   # Amazon IDs\n",
    "B.add_nodes_from(google_nodes, bipartite=1)  # Google IDs\n",
    "\n",
    "# Add edges\n",
    "for row in match_df.itertuples():\n",
    "    B.add_edge(row.idAmazon, row.idGoogleBase)\n",
    "\n",
    "# 2) Find connected components\n",
    "connected_components = list(nx.connected_components(B))\n",
    "\n",
    "# We'll create a dictionary that maps each node to a final representative Amazon ID\n",
    "representative_map = {}\n",
    "\n",
    "for component in connected_components:\n",
    "    # Among the nodes in the connected component, find the Amazon IDs\n",
    "    amazon_subnodes = [n for n in component if n in amazon_nodes]\n",
    "    if not amazon_subnodes:\n",
    "        # This situation is unlikely (would mean a component only of Google IDs),\n",
    "        # but you could handle it differently if it arises\n",
    "        continue\n",
    "\n",
    "    # Pick one Amazon ID from the component to be the representative\n",
    "    repr_amazon_id = amazon_subnodes[0]\n",
    "    \n",
    "    # Assign that representative ID to every node (Amazon or Google) in the component\n",
    "    for n in component:\n",
    "        representative_map[n] = repr_amazon_id\n",
    "\n",
    "# 3) Now “lift” all Amazon and Google IDs to their representative Amazon ID\n",
    "amazon_df[\"id\"] = amazon_df[\"id\"].map(representative_map)\n",
    "google_df[\"id\"] = google_df[\"id\"].map(representative_map)\n",
    "\n",
    "# 4) Rename 'google_df' column to \"idAmazon\" so both frames share a common ID column\n",
    "#google_df.rename(columns={\"idGoogleBase\": \"idAmazon\"}, inplace=True)\n",
    "\n",
    "# 5) Finally, union/concatenate\n",
    "#df_final = pd.concat([amazon_df, google_df], ignore_index=True)\n",
    "df_final = pd.merge(amazon_df, google_df, on=\"id\", how=\"outer\", suffixes=(\"_amazon\", \"_google\"))\n",
    "df_final"
   ]
  },
  {
   "cell_type": "code",
   "execution_count": 79,
   "id": "5d76eec4",
   "metadata": {},
   "outputs": [],
   "source": [
    "df_final.to_csv(\"/Users/yolandazhou/Documents/untitled_folder/CSE_584/lotus/processed_result_1300.csv\")"
   ]
  },
  {
   "cell_type": "code",
   "execution_count": null,
   "id": "0e1f7b6c",
   "metadata": {},
   "outputs": [],
   "source": []
  }
 ],
 "metadata": {
  "kernelspec": {
   "display_name": "Python 3 (ipykernel)",
   "language": "python",
   "name": "python3"
  },
  "language_info": {
   "codemirror_mode": {
    "name": "ipython",
    "version": 3
   },
   "file_extension": ".py",
   "mimetype": "text/x-python",
   "name": "python",
   "nbconvert_exporter": "python",
   "pygments_lexer": "ipython3",
   "version": "3.11.7"
  }
 },
 "nbformat": 4,
 "nbformat_minor": 5
}
